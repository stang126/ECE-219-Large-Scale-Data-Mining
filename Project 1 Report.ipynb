{
 "cells": [
  {
   "cell_type": "markdown",
   "id": "5135c324-046d-4888-bd7b-5f1397823cc8",
   "metadata": {},
   "source": [
    "# Project 1 Report"
   ]
  },
  {
   "cell_type": "markdown",
   "id": "0b3c6214-7041-4ed6-bcb8-694295d305e2",
   "metadata": {},
   "source": [
    "### Question 1\n",
    "\n",
    "Overview: How many rows (samples) and columns (features) are present in the dataset?"
   ]
  },
  {
   "cell_type": "code",
   "execution_count": 1,
   "id": "01bb52f0-30c8-4fa2-9b4d-b8ae9d03c619",
   "metadata": {},
   "outputs": [
    {
     "data": {
      "text/plain": [
       "(3150, 8)"
      ]
     },
     "execution_count": 1,
     "metadata": {},
     "output_type": "execute_result"
    }
   ],
   "source": [
    "import pandas as pd\n",
    "df=pd.read_csv('Project1-Classification.csv')\n",
    "df.shape"
   ]
  },
  {
   "cell_type": "markdown",
   "id": "5a3ad867-f9a8-40c8-8411-156559c286d6",
   "metadata": {},
   "source": [
    "##### There are 3150 rows (samples) and 8 columns (features) in the data set. "
   ]
  },
  {
   "cell_type": "markdown",
   "id": "c94b0cfb-1b61-4c77-a7ff-f49170f60ade",
   "metadata": {},
   "source": [
    "Interpret Plots: Provide qualitative interpretations of the histograms."
   ]
  },
  {
   "cell_type": "markdown",
   "id": "0fd1166c-9f7f-457f-9345-419a942e3825",
   "metadata": {},
   "source": [
    "##### The alpha-numeric histogram right skewed with an average around 2,500 characters. Additionally, most alpha-numeric character counts lie within 0 and 10,000.\n",
    "##### The leaf_label histogram is evenly distributed as all categories have the same frequency, which is 350.\n",
    "##### The root_label histogram is not evenly distributed. The sports category appears more frequently than the climate category; sports appears 1750 times while climate appears 1400 times. "
   ]
  },
  {
   "cell_type": "markdown",
   "id": "5582103d-b207-49bd-ab8c-215a1dc23775",
   "metadata": {},
   "source": [
    "### Question 2\n",
    "\n",
    "Report the number of training and testing samples\n",
    "\n",
    "##### There are 2520 training samples and 630 testing samples"
   ]
  },
  {
   "cell_type": "markdown",
   "id": "94731401-9cb1-4018-9060-b70ffaeac36c",
   "metadata": {},
   "source": [
    "### Question 3\n",
    "\n",
    "What are the pros and cons of lemmatization versus stemming? How do these processes affect the dictionary size?\n",
    "\n",
    "##### Lemmatizing considers the morphology of the word being analysed; however, it requires the words correct part of speech to accurately lemmatize it. For example, the word `dusting` requires it to be identified as a verb to correctly result in the lemma  `dust`. If it is identified as a noun (as it is the default part of speech when using the lemmatize function ), the lemma `dusting` will be returned. On the other hand, stemming only removes the end portions of a word to try to find its stem. However, it maybe inaccurately stem a word. For example, stemming the word `carries` may result in the word `car` or `carri`, which are both incorrect. \n",
    "##### Both lemmatization and stemming will reduce the dictionary size as only the lemma or stems of words are kept after the process is applied. For this same reason, it will also help to reduce the run time of the algorithm as less words are processed by the algorithm. If all words in a text are already in their lemma or stem form, it will not change the dictionary size. \n",
    "\n",
    "min_df means minimum document frequency. How does varying min_df change the TF-IDF matrix?\n",
    "\n",
    "##### When using CountVectorizer, min_df is used to filter out words that have a frequency below min_df. Increasing this value will filter out more words and thus decrease the TF-IDF matrix columns. Decreasing the value will increase the TF-IDF matrix columns. This change in the matrix can affect the results of the analysis being done. \n",
    "\n",
    " \n",
    "Should I remove stopwords before or after lemmatizing? Should I remove punctuations before or after lemmatizing? Should I remove numbers before or after lemmatizing? Hint: Recall that the full sentence is input into the Lemmatizer and the lemmatizer is tagging the position of every word based on the sentence structure.\n",
    "\n",
    "##### Punctuations and numbers should be removed before lemmatizing as words with punctuations included are treated differently than the same word without punctuation, such as `fun!` and `fun`. Additionally, numbers are not as important when analysing the text. Removing stopwords before or after lemmatizing depends what the task requires. In cases where they may not be very useful or necessary (like sentiment analysis), they should be removed before lemmatizing. To determine whether lemmatizing should come before or after stopword removal, the intent of the task should be examined to see if they are necessary. Additionally, the task can be done with both methods to determine whether it is better the lemmatize before or after stopword removal. Additionally, the removal of these elements will reduce the run time of the algorithm analysing the text as there are less words that must be processed. \n",
    "\n",
    "Report the shape of the TF-IDF-processed train and test matrices. The number of rows should match the results of Question 2. The number of columns should roughly be in the order of k×103. This dimension will vary depending on your exact method of cleaning and lemmatizing and that is okay.\n",
    "\n",
    "##### The shape of the train matrix is (2520, 14465) and the shape of the test matrix is (630, 14465); for both, the number of rows match the results from section 2. \n"
   ]
  },
  {
   "cell_type": "code",
   "execution_count": null,
   "id": "6f933384-3a66-4baa-a96e-dd8a54ed89ab",
   "metadata": {},
   "outputs": [],
   "source": []
  }
 ],
 "metadata": {
  "kernelspec": {
   "display_name": "Python 3 (ipykernel)",
   "language": "python",
   "name": "python3"
  },
  "language_info": {
   "codemirror_mode": {
    "name": "ipython",
    "version": 3
   },
   "file_extension": ".py",
   "mimetype": "text/x-python",
   "name": "python",
   "nbconvert_exporter": "python",
   "pygments_lexer": "ipython3",
   "version": "3.9.7"
  }
 },
 "nbformat": 4,
 "nbformat_minor": 5
}
