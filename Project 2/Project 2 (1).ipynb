{
 "cells": [
  {
   "cell_type": "markdown",
   "metadata": {},
   "source": [
    "# Project 2: Data Representations and Clustering\n",
    "#### Serena Tang, Liwen Yang, Winston Wang"
   ]
  },
  {
   "cell_type": "markdown",
   "metadata": {},
   "source": [
    "### Clustering with Sparse Text Representations\n",
    "\n",
    "*1. Generate sparse TF-IDF representations: Following the steps in Project 1, transform the documents into TF-IDF vectors. Use min df = 3, exclude the stopwords (no need to do stemming or lemmatization), and remove the headers and footers. No need to do any additional data cleaning.*"
   ]
  },
  {
   "cell_type": "code",
   "execution_count": 1,
   "metadata": {},
   "outputs": [],
   "source": [
    "from sklearn.datasets import fetch_20newsgroups\n",
    "\n",
    "# get dataset\n",
    "categories = ['comp.graphics', 'comp.os.ms-windows.misc', 'comp.sys.ibm.pc.hardware', 'comp.sys.mac.hardware',\n",
    "                  'rec.autos', 'rec.motorcycles','rec.sport.baseball', 'rec.sport.hockey']\n",
    "newsgroups = fetch_20newsgroups(categories=categories, remove=('headers', 'footers'))"
   ]
  },
  {
   "cell_type": "code",
   "execution_count": 2,
   "metadata": {},
   "outputs": [
    {
     "name": "stdout",
     "output_type": "stream",
     "text": [
      "Newsgroups TF-IDF Dimensions:  (4732, 17131)\n"
     ]
    }
   ],
   "source": [
    "from sklearn.feature_extraction.text import CountVectorizer\n",
    "from sklearn.feature_extraction.text import TfidfTransformer\n",
    "\n",
    "# count vectorizer on corpus\n",
    "tf_vectorizer = CountVectorizer(min_df = 3, stop_words='english')\n",
    "newsgroups_vectorized = tf_vectorizer.fit_transform(newsgroups.data)\n",
    "\n",
    "# count vector to TF-IDF\n",
    "transformer = TfidfTransformer()\n",
    "newsgroups_tfidf = transformer.fit_transform(newsgroups_vectorized)\n",
    "\n",
    "print('Newsgroups TF-IDF Dimensions: ', newsgroups_tfidf.shape)"
   ]
  },
  {
   "cell_type": "markdown",
   "metadata": {},
   "source": [
    "### QUESTION 1\n",
    "- ***Report the dimensions of the TF-IDF matrix you obtain.***\n",
    "    - The newsgroups TF-IDF matrix had a dimension of (4732, 13477). "
   ]
  },
  {
   "cell_type": "markdown",
   "metadata": {},
   "source": [
    "*2. Clustering: Apply K-means clustering with k = 2 using the TF-IDF data. Note that the KMeans class in sklearn has parameters named random state, max iter and n init. Please use `random state=0`, `max iter ≥1000`, and `n_init ≥30`. You can refer to sklearn - Clustering text documents using k-means for a basic work flow.*\n",
    "- *(a) Given the clustering result and ground truth labels, contingency table A is the matrix whose entries $A_{ij}$ is the number of data points that belong to the i’th class and the j’th cluster.*"
   ]
  },
  {
   "cell_type": "code",
   "execution_count": 3,
   "metadata": {},
   "outputs": [
    {
     "data": {
      "text/plain": [
       "KMeans(max_iter=1000, n_clusters=2, n_init=30, random_state=0)"
      ]
     },
     "execution_count": 3,
     "metadata": {},
     "output_type": "execute_result"
    }
   ],
   "source": [
    "from sklearn.cluster import KMeans\n",
    "import matplotlib.pyplot as plt\n",
    "import numpy as np\n",
    "\n",
    "# Get clusters\n",
    "kmeans = KMeans(random_state=0, n_clusters=2, max_iter=1000, n_init=30)\n",
    "kmeans.fit(newsgroups_tfidf )"
   ]
  },
  {
   "cell_type": "code",
   "execution_count": 4,
   "metadata": {},
   "outputs": [],
   "source": [
    "# Map the categories to classes\n",
    "class_1 = ['comp.graphics', 'comp.os.ms-windows.misc', 'comp.sys.ibm.pc.hardware', 'comp.sys.mac.hardware']\n",
    "class_2=['rec.autos', 'rec.motorcycles', 'rec.sport.baseball', 'rec.sport.hockey']\n",
    "category_to_class=[]\n",
    "cat_to_num={}\n",
    "for idx, cat in enumerate(newsgroups.target_names):\n",
    "    cat_to_num[idx]=cat\n",
    "for num in newsgroups.target:\n",
    "    if 'comp.' in cat_to_num[num]:\n",
    "        category_to_class.append(0)\n",
    "    else:\n",
    "        category_to_class.append(1)\n",
    "\n"
   ]
  },
  {
   "cell_type": "code",
   "execution_count": 5,
   "metadata": {},
   "outputs": [
    {
     "data": {
      "text/plain": [
       "<Figure size 432x288 with 0 Axes>"
      ]
     },
     "metadata": {},
     "output_type": "display_data"
    },
    {
     "data": {
      "image/png": "[encoded data removed]",
      "text/plain": [
       "<Figure size 288x288 with 1 Axes>"
      ]
     },
     "metadata": {
      "needs_background": "light"
     },
     "output_type": "display_data"
    }
   ],
   "source": [
    "from sklearn import metrics\n",
    "\n",
    "# plot contingency matrix\n",
    "fig = plt.figure()\n",
    "cont_matrix = metrics.cluster.contingency_matrix(category_to_class, kmeans.labels_)\n",
    "plt.matshow(cont_matrix, cmap=plt.cm.Blues, alpha=0.4)\n",
    "for (i, j), z in np.ndenumerate(cont_matrix):\n",
    "    plt.text(j, i, '{:0.1f}'.format(z), ha='center', va='center')\n",
    "plt.xticks(range(2), ['Cluster 0', 'Cluster 1'])\n",
    "plt.yticks(range(2), ['Class 1', 'Class 2'])\n",
    "plt.show()\n"
   ]
  },
  {
   "cell_type": "markdown",
   "metadata": {},
   "source": [
    "### QUESTION 2\n",
    "\n",
    "***Report the contingency table of your clustering result. You may use the provided plotmat.py to visualize the matrix. Does the contingency matrix have to\n",
    "be square-shaped?***\n",
    "- The contingency table of the clustering result is shown above. Based on the strong diagonal, we can infer that `Cluster 1` correlates to `Class 1` and `Cluster 0` correlates to `Class 2`. The contingency matrix should be square-shaped as we set the number of clusters in Kmeans to be 2 and our data has 2 classes. If we set the number of clusters in Kmeans to be a different number than the number of classes in the data, the contingency matrix will not be square. "
   ]
  },
  {
   "cell_type": "markdown",
   "metadata": {},
   "source": [
    "# Question 3"
   ]
  },
  {
   "cell_type": "code",
   "execution_count": 6,
   "metadata": {},
   "outputs": [
    {
     "name": "stdout",
     "output_type": "stream",
     "text": [
      "Adjusted Rand Index score: 0.658454925051644\n",
      "Adjusted mutual information score: 0.5924279724527073\n",
      "Homogeneity score: 0.586944967644873\n",
      "Completeness score: 0.5981422594612767\n",
      "V-measure score: 0.5924907147701187\n"
     ]
    }
   ],
   "source": [
    "from sklearn.metrics.cluster import homogeneity_score, completeness_score, v_measure_score, adjusted_rand_score, adjusted_mutual_info_score\n",
    "\n",
    "print(\"Adjusted Rand Index score:\", adjusted_rand_score(category_to_class, kmeans.labels_))\n",
    "print(\"Adjusted mutual information score:\", adjusted_mutual_info_score(category_to_class, kmeans.labels_))\n",
    "print(\"Homogeneity score:\", homogeneity_score(category_to_class, kmeans.labels_))\n",
    "print(\"Completeness score:\", completeness_score(category_to_class, kmeans.labels_))\n",
    "print(\"V-measure score:\", v_measure_score(category_to_class, kmeans.labels_))\n"
   ]
  },
  {
   "cell_type": "markdown",
   "metadata": {},
   "source": [
    "# Question 4"
   ]
  },
  {
   "cell_type": "code",
   "execution_count": 7,
   "metadata": {},
   "outputs": [
    {
     "data": {
      "image/png": "[encoded data removed]",
      "text/plain": [
       "<Figure size 432x288 with 1 Axes>"
      ]
     },
     "metadata": {
      "needs_background": "light"
     },
     "output_type": "display_data"
    }
   ],
   "source": [
    "from sklearn.decomposition import TruncatedSVD\n",
    "\n",
    "svd = TruncatedSVD(n_components=1000, random_state=0)\n",
    "LSI = svd.fit_transform(newsgroups_tfidf)\n",
    "\n",
    "x = np.array(range(1, 1001))\n",
    "ratio = svd.explained_variance_ratio_\n",
    "cum_sum_eigenvalues = np.cumsum(ratio)\n",
    "\n",
    "# plt.bar(x, ratio, alpha=0.5, align='center', label='Individual explained variance')\n",
    "plt.plot(x, cum_sum_eigenvalues,label='Cumulative explained variance')\n",
    "plt.ylabel('Explained Variance Ratio')\n",
    "plt.xlabel('r')\n",
    "plt.legend(loc='best')\n",
    "plt.tight_layout()"
   ]
  },
  {
   "cell_type": "markdown",
   "metadata": {},
   "source": [
    "# Question 5"
   ]
  },
  {
   "cell_type": "code",
   "execution_count": 8,
   "metadata": {},
   "outputs": [],
   "source": [
    "from sklearn.decomposition import NMF\n",
    "\n",
    "n_components = [1,2,3,4,5,6,7,8,9,10,20,50,100,300]\n",
    "def Score_plot(reducer, dimension, newsgroups_tfidf, category_to_class):\n",
    "    ar, am, hs, cs, vs = [],[],[],[],[]\n",
    "    for n_components in dimension:\n",
    "        if reducer == \"SVD\":\n",
    "            svd = TruncatedSVD(n_components = n_components, random_state=0)\n",
    "            data = svd.fit_transform(newsgroups_tfidf)\n",
    "        else:\n",
    "            nmf = NMF(n_components= n_components, init='random', random_state=0, max_iter=300)\n",
    "            data = nmf.fit_transform(newsgroups_tfidf)\n",
    "            \n",
    "        kmeans = KMeans(random_state=0, n_clusters=2, max_iter=1000, n_init=30)\n",
    "        kmeans.fit(data)\n",
    "        \n",
    "        ar.append(adjusted_rand_score(category_to_class,kmeans.labels_))\n",
    "        am.append(adjusted_mutual_info_score(category_to_class,kmeans.labels_))\n",
    "        hs.append(homogeneity_score(category_to_class,kmeans.labels_))\n",
    "        cs.append(completeness_score(category_to_class,kmeans.labels_))\n",
    "        vs.append(v_measure_score(category_to_class,kmeans.labels_))\n",
    "    \n",
    "    plt.plot(dimension, ar)\n",
    "    plt.plot(dimension, am)\n",
    "    plt.plot(dimension, hs)\n",
    "    plt.plot(dimension, cs)\n",
    "    plt.plot(dimension, vs)\n",
    "    \n",
    "    plt.title('5 scores for ' + reducer)\n",
    "    plt.xlabel('Dimension')\n",
    "    plt.ylabel('Scores')\n",
    "    plt.legend(labels = ['Adjusted Rand Index score','Adjusted mutual information score',\n",
    "                         'Homogeneity score','Completeness score','V-measure score'])\n",
    "    \n",
    "    max_score = max(ar)\n",
    "    index = ar.index(max_score)\n",
    "    dimensions = [1,2,3,4,5,6,7,8,9,10,20,50,100,300]\n",
    "    print(\"The best choice for \"+ reducer +\" is when r = \", dimensions[index])"
   ]
  },
  {
   "cell_type": "code",
   "execution_count": null,
   "metadata": {
    "scrolled": true
   },
   "outputs": [],
   "source": [
    "Score_plot(\"SVD\", n_components, newsgroups_tfidf, category_to_class)"
   ]
  },
  {
   "cell_type": "code",
   "execution_count": null,
   "metadata": {},
   "outputs": [],
   "source": [
    "Score_plot(\"NMF\", n_components, newsgroups_tfidf, category_to_class)"
   ]
  },
  {
   "cell_type": "markdown",
   "metadata": {},
   "source": [
    "# Question 6\n",
    "\n",
    "***How do you explain the non-monotonic behavior of the measures as r increases?***\n",
    "\n",
    "Dimension reduction helps us work with noisy data, but at the same time, we lose some information. Working with few features could indeed help increase the score but not necessarily. \n",
    "\n",
    "When we have small r, we only keep dew features of the original data, which may lead to inaccurate result; While when we have large r, we have too much noise in our feature matrix, which may lead to inaccurate clustering by KMeans model, which also affects the accuracy of the model prediction.That is the reason why we have non-monotonic behavior of the measures as r increases."
   ]
  },
  {
   "cell_type": "code",
   "execution_count": null,
   "metadata": {},
   "outputs": [],
   "source": []
  }
 ],
 "metadata": {
  "kernelspec": {
   "display_name": "Python 3 (ipykernel)",
   "language": "python",
   "name": "python3"
  },
  "language_info": {
   "codemirror_mode": {
    "name": "ipython",
    "version": 3
   },
   "file_extension": ".py",
   "mimetype": "text/x-python",
   "name": "python",
   "nbconvert_exporter": "python",
   "pygments_lexer": "ipython3",
   "version": "3.9.7"
  },
  "vscode": {
   "interpreter": {
    "hash": "6c4d0dcc6ab9b928a81d54ec458645a30fcac0c4b83eb673056319a03dc0ba5e"
   }
  }
 },
 "nbformat": 4,
 "nbformat_minor": 2
}
