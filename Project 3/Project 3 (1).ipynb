{
 "cells": [
  {
   "cell_type": "markdown",
   "metadata": {},
   "source": [
    "# Project 3: Recommender Systems\n",
    "### Serena Tang, Liwen Yang, Winston Wang"
   ]
  },
  {
   "cell_type": "markdown",
   "metadata": {},
   "source": [
    "### QUESTION 1\n",
    "***Explore the Dataset: In this question, we explore the structure of the data.***\n",
    "- ***A) Compute the sparsity of the movie rating dataset:*** $Sparsity = \\dfrac{Total number of available ratings}{Total number of possible ratings}$\n",
    "    - The spasity of the movie rating dataset is 0.016999683055613623; this implies that most users did not rate every movie. "
   ]
  },
  {
   "cell_type": "code",
   "execution_count": 1,
   "metadata": {},
   "outputs": [
    {
     "data": {
      "text/html": [
       "<div>\n",
       "<style scoped>\n",
       "    .dataframe tbody tr th:only-of-type {\n",
       "        vertical-align: middle;\n",
       "    }\n",
       "\n",
       "    .dataframe tbody tr th {\n",
       "        vertical-align: top;\n",
       "    }\n",
       "\n",
       "    .dataframe thead th {\n",
       "        text-align: right;\n",
       "    }\n",
       "</style>\n",
       "<table border=\"1\" class=\"dataframe\">\n",
       "  <thead>\n",
       "    <tr style=\"text-align: right;\">\n",
       "      <th>movieId</th>\n",
       "      <th>1</th>\n",
       "      <th>2</th>\n",
       "      <th>3</th>\n",
       "      <th>4</th>\n",
       "      <th>5</th>\n",
       "      <th>6</th>\n",
       "      <th>7</th>\n",
       "      <th>8</th>\n",
       "      <th>9</th>\n",
       "      <th>10</th>\n",
       "      <th>...</th>\n",
       "      <th>193565</th>\n",
       "      <th>193567</th>\n",
       "      <th>193571</th>\n",
       "      <th>193573</th>\n",
       "      <th>193579</th>\n",
       "      <th>193581</th>\n",
       "      <th>193583</th>\n",
       "      <th>193585</th>\n",
       "      <th>193587</th>\n",
       "      <th>193609</th>\n",
       "    </tr>\n",
       "    <tr>\n",
       "      <th>userId</th>\n",
       "      <th></th>\n",
       "      <th></th>\n",
       "      <th></th>\n",
       "      <th></th>\n",
       "      <th></th>\n",
       "      <th></th>\n",
       "      <th></th>\n",
       "      <th></th>\n",
       "      <th></th>\n",
       "      <th></th>\n",
       "      <th></th>\n",
       "      <th></th>\n",
       "      <th></th>\n",
       "      <th></th>\n",
       "      <th></th>\n",
       "      <th></th>\n",
       "      <th></th>\n",
       "      <th></th>\n",
       "      <th></th>\n",
       "      <th></th>\n",
       "      <th></th>\n",
       "    </tr>\n",
       "  </thead>\n",
       "  <tbody>\n",
       "    <tr>\n",
       "      <th>1</th>\n",
       "      <td>4.0</td>\n",
       "      <td>0.0</td>\n",
       "      <td>4.0</td>\n",
       "      <td>0.0</td>\n",
       "      <td>0.0</td>\n",
       "      <td>4.5</td>\n",
       "      <td>0.0</td>\n",
       "      <td>0.0</td>\n",
       "      <td>0.0</td>\n",
       "      <td>0.0</td>\n",
       "      <td>...</td>\n",
       "      <td>0.0</td>\n",
       "      <td>0.0</td>\n",
       "      <td>0.0</td>\n",
       "      <td>0.0</td>\n",
       "      <td>0.0</td>\n",
       "      <td>0.0</td>\n",
       "      <td>0.0</td>\n",
       "      <td>0.0</td>\n",
       "      <td>0.0</td>\n",
       "      <td>0.0</td>\n",
       "    </tr>\n",
       "    <tr>\n",
       "      <th>2</th>\n",
       "      <td>0.0</td>\n",
       "      <td>0.0</td>\n",
       "      <td>0.0</td>\n",
       "      <td>0.0</td>\n",
       "      <td>0.0</td>\n",
       "      <td>0.0</td>\n",
       "      <td>0.0</td>\n",
       "      <td>0.0</td>\n",
       "      <td>0.0</td>\n",
       "      <td>0.0</td>\n",
       "      <td>...</td>\n",
       "      <td>0.0</td>\n",
       "      <td>0.0</td>\n",
       "      <td>0.0</td>\n",
       "      <td>0.0</td>\n",
       "      <td>0.0</td>\n",
       "      <td>0.0</td>\n",
       "      <td>0.0</td>\n",
       "      <td>0.0</td>\n",
       "      <td>0.0</td>\n",
       "      <td>0.0</td>\n",
       "    </tr>\n",
       "    <tr>\n",
       "      <th>3</th>\n",
       "      <td>0.0</td>\n",
       "      <td>0.0</td>\n",
       "      <td>0.0</td>\n",
       "      <td>0.0</td>\n",
       "      <td>0.0</td>\n",
       "      <td>0.0</td>\n",
       "      <td>0.0</td>\n",
       "      <td>0.0</td>\n",
       "      <td>0.0</td>\n",
       "      <td>0.0</td>\n",
       "      <td>...</td>\n",
       "      <td>0.0</td>\n",
       "      <td>0.0</td>\n",
       "      <td>0.0</td>\n",
       "      <td>0.0</td>\n",
       "      <td>0.0</td>\n",
       "      <td>0.0</td>\n",
       "      <td>0.0</td>\n",
       "      <td>0.0</td>\n",
       "      <td>0.0</td>\n",
       "      <td>0.0</td>\n",
       "    </tr>\n",
       "    <tr>\n",
       "      <th>4</th>\n",
       "      <td>0.0</td>\n",
       "      <td>0.0</td>\n",
       "      <td>0.0</td>\n",
       "      <td>0.0</td>\n",
       "      <td>0.0</td>\n",
       "      <td>0.0</td>\n",
       "      <td>0.0</td>\n",
       "      <td>0.0</td>\n",
       "      <td>0.0</td>\n",
       "      <td>0.0</td>\n",
       "      <td>...</td>\n",
       "      <td>0.0</td>\n",
       "      <td>0.0</td>\n",
       "      <td>0.0</td>\n",
       "      <td>0.0</td>\n",
       "      <td>0.0</td>\n",
       "      <td>0.0</td>\n",
       "      <td>0.0</td>\n",
       "      <td>0.0</td>\n",
       "      <td>0.0</td>\n",
       "      <td>0.0</td>\n",
       "    </tr>\n",
       "    <tr>\n",
       "      <th>5</th>\n",
       "      <td>4.0</td>\n",
       "      <td>0.0</td>\n",
       "      <td>0.0</td>\n",
       "      <td>0.0</td>\n",
       "      <td>0.0</td>\n",
       "      <td>0.0</td>\n",
       "      <td>0.0</td>\n",
       "      <td>0.0</td>\n",
       "      <td>0.0</td>\n",
       "      <td>0.0</td>\n",
       "      <td>...</td>\n",
       "      <td>0.0</td>\n",
       "      <td>0.0</td>\n",
       "      <td>0.0</td>\n",
       "      <td>0.0</td>\n",
       "      <td>0.0</td>\n",
       "      <td>0.0</td>\n",
       "      <td>0.0</td>\n",
       "      <td>0.0</td>\n",
       "      <td>0.0</td>\n",
       "      <td>0.0</td>\n",
       "    </tr>\n",
       "  </tbody>\n",
       "</table>\n",
       "<p>5 rows × 9724 columns</p>\n",
       "</div>"
      ],
      "text/plain": [
       "movieId  1       2       3       4       5       6       7       8       \\\n",
       "userId                                                                    \n",
       "1           4.0     0.0     4.0     0.0     0.0     4.5     0.0     0.0   \n",
       "2           0.0     0.0     0.0     0.0     0.0     0.0     0.0     0.0   \n",
       "3           0.0     0.0     0.0     0.0     0.0     0.0     0.0     0.0   \n",
       "4           0.0     0.0     0.0     0.0     0.0     0.0     0.0     0.0   \n",
       "5           4.0     0.0     0.0     0.0     0.0     0.0     0.0     0.0   \n",
       "\n",
       "movieId  9       10      ...  193565  193567  193571  193573  193579  193581  \\\n",
       "userId                   ...                                                   \n",
       "1           0.0     0.0  ...     0.0     0.0     0.0     0.0     0.0     0.0   \n",
       "2           0.0     0.0  ...     0.0     0.0     0.0     0.0     0.0     0.0   \n",
       "3           0.0     0.0  ...     0.0     0.0     0.0     0.0     0.0     0.0   \n",
       "4           0.0     0.0  ...     0.0     0.0     0.0     0.0     0.0     0.0   \n",
       "5           0.0     0.0  ...     0.0     0.0     0.0     0.0     0.0     0.0   \n",
       "\n",
       "movieId  193583  193585  193587  193609  \n",
       "userId                                   \n",
       "1           0.0     0.0     0.0     0.0  \n",
       "2           0.0     0.0     0.0     0.0  \n",
       "3           0.0     0.0     0.0     0.0  \n",
       "4           0.0     0.0     0.0     0.0  \n",
       "5           0.0     0.0     0.0     0.0  \n",
       "\n",
       "[5 rows x 9724 columns]"
      ]
     },
     "execution_count": 1,
     "metadata": {},
     "output_type": "execute_result"
    }
   ],
   "source": [
    "import pandas as pd\n",
    "import numpy as np\n",
    "\n",
    "# import ratings data\n",
    "ratings_df = pd.read_csv('ratings.csv')\n",
    "\n",
    "# create R matrix \n",
    "R = ratings_df.pivot(index = 'userId', columns ='movieId', values = 'rating').fillna(0)\n",
    "R.head()"
   ]
  },
  {
   "cell_type": "code",
   "execution_count": 2,
   "metadata": {},
   "outputs": [
    {
     "name": "stdout",
     "output_type": "stream",
     "text": [
      "Sparsity of Rating Matrix:  0.016999683055613623\n"
     ]
    }
   ],
   "source": [
    "R_sparsity = np.count_nonzero(R)/R.size\n",
    "print('Sparsity of Rating Matrix: ', R_sparsity)"
   ]
  },
  {
   "cell_type": "markdown",
   "metadata": {},
   "source": [
    "- ***B) Plot a histogram showing the frequency of the rating values: Bin the raw rating values into intervals of width 0.5 and use the binned rating values as the horizontal axis. Count the number of entries in the ratings matrix R that fall within each bin and use this count as the height of the vertical axis for that particular bin. Comment on the shape of the histogram.***\n",
    "    - The data is slightly left skewed with most users leaving 4.0 rating on a movie. Most people rated the movie 3.0 and above, implying that users either usually enjoyed the movies they watched or those who did not enjoy the movies were less likely to give the movie a poor rating. "
   ]
  },
  {
   "cell_type": "code",
   "execution_count": 3,
   "metadata": {},
   "outputs": [
    {
     "data": {
      "text/plain": [
       "Text(0, 0.5, 'Frequency')"
      ]
     },
     "execution_count": 3,
     "metadata": {},
     "output_type": "execute_result"
    },
    {
     "data": {
      "image/png": "[encoded data removed]",
      "text/plain": [
       "<Figure size 432x288 with 1 Axes>"
      ]
     },
     "metadata": {
      "needs_background": "light"
     },
     "output_type": "display_data"
    }
   ],
   "source": [
    "import matplotlib.pyplot as plt\n",
    "\n",
    "# plot rating frequency\n",
    "ratings_df.rating.value_counts().sort_index().plot(kind = 'bar')\n",
    "plt.title('Frequency of Movie Ratings')\n",
    "plt.xlabel('Rating')\n",
    "plt.ylabel('Frequency')"
   ]
  },
  {
   "cell_type": "markdown",
   "metadata": {},
   "source": [
    "- ***C) Plot the distribution of the number of ratings received among movies: The X-axis should be the movie index ordered by decreasing frequency and the Y -axis should be the number of ratings the movie has received; ties can broken in any way. A monotonically decreasing trend is expected.***\n",
    "    - The plot is shown below. "
   ]
  },
  {
   "cell_type": "code",
   "execution_count": 4,
   "metadata": {},
   "outputs": [
    {
     "data": {
      "text/plain": [
       "Text(0, 0.5, 'Number of Ratings Recieved')"
      ]
     },
     "execution_count": 4,
     "metadata": {},
     "output_type": "execute_result"
    },
    {
     "data": {
      "image/png": "[encoded data removed]",
      "text/plain": [
       "<Figure size 432x288 with 1 Axes>"
      ]
     },
     "metadata": {
      "needs_background": "light"
     },
     "output_type": "display_data"
    }
   ],
   "source": [
    "# plot rating distribution\n",
    "plt.plot(list(ratings_df.movieId.value_counts().sort_values(ascending=False).values))\n",
    "plt.title('Distribution of Movie Ratings')\n",
    "plt.xlabel('Movie Index')\n",
    "plt.ylabel('Number of Ratings Recieved')"
   ]
  },
  {
   "cell_type": "markdown",
   "metadata": {},
   "source": [
    "- ***D) Plot the distribution of ratings among users: The X-axis should be the user index ordered by decreasing frequency and the Y -axis should be the number of movies the user has rated. The requirement of the plot is similar to that in Question C.***\n",
    "    - The plot is shown below. "
   ]
  },
  {
   "cell_type": "code",
   "execution_count": 5,
   "metadata": {},
   "outputs": [
    {
     "data": {
      "text/plain": [
       "Text(0, 0.5, 'Number of Movies Rated')"
      ]
     },
     "execution_count": 5,
     "metadata": {},
     "output_type": "execute_result"
    },
    {
     "data": {
      "image/png": "[encoded data removed]",
      "text/plain": [
       "<Figure size 432x288 with 1 Axes>"
      ]
     },
     "metadata": {
      "needs_background": "light"
     },
     "output_type": "display_data"
    }
   ],
   "source": [
    "# plot rating distribution\n",
    "plt.plot(list(ratings_df.userId.value_counts().sort_values(ascending=False).values))\n",
    "plt.title('Distribution of User Ratings')\n",
    "plt.xlabel('User Index')\n",
    "plt.ylabel('Number of Movies Rated')"
   ]
  },
  {
   "cell_type": "markdown",
   "metadata": {},
   "source": [
    "- ***E) Discuss the salient features of the distributions from Questions C,D and their implications for the recommendation process.***\n",
    "    - Based on the distribution from part D, it appears that there are a few people who rate a lot of movies; this implies that most users usually rate only a few movies while a select few rate a lot of movies. Similarly, from the distribution from part C, it appears that most movies only have a few reviews while a small amount of movies have a lot of reviews. This can imply that many people will only rate a few movies that they feel strongly about while some people may rate all the movies they watch. \n",
    "    - These observations can imply that there may be an issue recommending movies to users as that user may not have rated enough movies for the system to send them a \"good\" recommendation or a movie may not have enough ratings for it to be pushed to users. This implies that the data may need to be processed to predict how users who rate a movie may rate another to push \"good\" recommendations to users whle also not pushing \"bad\" recommendations to users. "
   ]
  },
  {
   "cell_type": "markdown",
   "metadata": {},
   "source": [
    "- ***F) Compute the variance of the rating values received by each movie: Bin the variance values into intervals of width 0.5 and use the binned variance values as the horizontal axis. Count the number of movies with variance values in the binned intervals and use this count as the vertical axis. Briefly comment on the shape of the resulting histogram.***\n",
    "    - The histogram is shown below. The plot is heavily right skewed as most variances are between 0 and 1 with few a variances being larger than 3. "
   ]
  },
  {
   "cell_type": "code",
   "execution_count": 6,
   "metadata": {},
   "outputs": [
    {
     "data": {
      "text/plain": [
       "Text(0, 0.5, 'Number of Movies')"
      ]
     },
     "execution_count": 6,
     "metadata": {},
     "output_type": "execute_result"
    },
    {
     "data": {
      "image/png": "[encoded data removed]",
      "text/plain": [
       "<Figure size 432x288 with 1 Axes>"
      ]
     },
     "metadata": {
      "needs_background": "light"
     },
     "output_type": "display_data"
    }
   ],
   "source": [
    "# get variance of ratings per movie\n",
    "movies = np.unique(ratings_df.movieId)\n",
    "rating_var = []\n",
    "for i in movies:\n",
    "    rating_var.append(ratings_df[ratings_df['movieId']==i].rating.var())\n",
    "\n",
    "# plot variance\n",
    "plt.hist(rating_var, bins = np.arange(0, max(rating_var), 0.5))\n",
    "plt.title('Rating Variance of Movies')\n",
    "plt.xlabel('Rating Variance')\n",
    "plt.ylabel('Number of Movies')"
   ]
  },
  {
   "cell_type": "markdown",
   "metadata": {},
   "source": [
    "### QUESTION 2\n",
    "- ***A) Write down the formula for $\\mu_u$ in terms of $I_u$ and $r_{uk}$***\n",
    "    - $\\mu_u = \\frac{\\sum_{k \\in I_u} r_{uk} }{n(I_u)}$\n",
    "    - $n(I_u)$ indicates the number of items that user $u$ rated\n",
    "- ***B) In plain words, explain the meaning of $I_u \\cap I_v$. Can $I_u \\cap I_v$ = ∅? (Hint: Rating matrix R is sparse)***\n",
    "    - $I_u \\cap I_v$ is the intersection of items that user $u$ and user $v$ have rated; this is how many items that user $u$ and user $v$ have both rated. It is possible for $I_u \\cap I_v$ = ∅ as this just means that user $u$ and user $v$ did not rate the same items; this appears to be very common as matrix $R$ is very sparse. "
   ]
  },
  {
   "cell_type": "markdown",
   "metadata": {},
   "source": [
    "### QUESTION 3\n",
    "- ***Can you explain the reason behind mean-centering the raw ratings ($r_{vj} − \\mu_v$) in the prediction function? (Hint: Consider users who either rate all items highly or rate all items poorly and the impact of these users on the prediction function.)***\n",
    "    - Mean-centering the data helps to normalise the data to help prevent the data from overfitting the data due to outliers (users who either always very highly or very lowly rate items) as they can heavily skew the model/recommendations. "
   ]
  },
  {
   "cell_type": "markdown",
   "metadata": {},
   "source": [
    "### QUESTION 4\n",
    "- ***Design a k-NN collaborative filter to predict the ratings of the movies in the original dataset and evaluate its performance using 10-fold cross validation. Sweep k (number of neighbors) from 2 to 100 in step sizes of 2, and for each k compute the average RMSE and average MAE obtained by averaging the RMSE and MAE across all 10 folds. Plot average RMSE (Y-axis) against k (X-axis) and average MAE (Y-axis) against k (X-axis).***\n",
    "    - The two plots are shown below. "
   ]
  },
  {
   "cell_type": "code",
   "execution_count": 7,
   "metadata": {},
   "outputs": [],
   "source": [
    "from surprise.prediction_algorithms.knns import KNNWithMeans\n",
    "from surprise.model_selection.validation import cross_validate\n",
    "from surprise import Dataset, Reader\n",
    "\n",
    "# load data\n",
    "reader = Reader(rating_scale=(0.5, 5))\n",
    "data = Dataset.load_from_df(ratings_df[[\"userId\", \"movieId\", \"rating\"]], reader)"
   ]
  },
  {
   "cell_type": "code",
   "execution_count": 8,
   "metadata": {},
   "outputs": [
    {
     "data": {
      "text/plain": [
       "Text(0, 0.5, 'Average MAE')"
      ]
     },
     "execution_count": 8,
     "metadata": {},
     "output_type": "execute_result"
    },
    {
     "data": {
      "image/png": "[encoded data removed]",
      "text/plain": [
       "<Figure size 720x864 with 2 Axes>"
      ]
     },
     "metadata": {
      "needs_background": "light"
     },
     "output_type": "display_data"
    }
   ],
   "source": [
    "# calculate rmse and mae for each k\n",
    "k = range(2,100,2)\n",
    "rsme = []\n",
    "mae = []\n",
    "for i in k:\n",
    "    algo = KNNWithMeans(k=i, sim_options = {\"name\": \"pearson\"})\n",
    "    result = cross_validate(algo, data, cv=10, n_jobs=-1)\n",
    "    rsme.append(np.mean(result['test_rmse']))\n",
    "    mae.append(np.mean(result['test_mae']))\n",
    "\n",
    "# plot RMSE and MAE\n",
    "plt.figure(figsize=(10, 12))\n",
    "plt.subplot(2, 1, 1)\n",
    "plt.plot(k, rsme)\n",
    "plt.title('k vs Average RMSE')\n",
    "plt.xlabel('k Value')\n",
    "plt.ylabel('Average RMSE')\n",
    "\n",
    "plt.subplot(2, 1, 2)\n",
    "plt.plot(k, mae)\n",
    "plt.title('k vs Average MAE')\n",
    "plt.xlabel('k Value')\n",
    "plt.ylabel('Average MAE')"
   ]
  },
  {
   "cell_type": "markdown",
   "metadata": {},
   "source": [
    "### QUESTION 5\n",
    "- ***Use the plot from question 4, to find a `minimum k`. Note: The term `minimum k` in this context means that increasing k above the minimum value would not result in a significant decrease in average RMSE or average MAE. If you get the plot correct, then `minimum k` would correspond to the k value for which average RMSE and average MAE converges to a steady-state value. Please report the steady state values of average RMSE and average MAE.***"
   ]
  },
  {
   "cell_type": "markdown",
   "metadata": {},
   "source": [
    "From question 4, the minimum k is at 20 for RMSE and 22 for MAE."
   ]
  },
  {
   "cell_type": "markdown",
   "metadata": {},
   "source": [
    "### QUESTION 6\n",
    "- ***Within EACH of the 3 trimmed subsets in the dataset, design (train and validate): A k-NN collaborative filter on the ratings of the movies (i.e Popular, Unpopular or High-Variance) and evaluate each of the three models’ performance using 10-fold cross validation:***\n",
    "    - ***Sweep k (number of neighbors) from 2 to 100 in step sizes of 2, and for each k compute the average RMSE obtained by averaging the RMSE across all 10 folds. Plot average RMSE (Y-axis) against k (X-axis). Also, report the minimum average RMSE.***\n",
    "    - ***Plot the ROC curves for the k-NN collaborative filters for threshold values $[2.5,3,3.5,4]$. These thresholds are applied only on the ground truth labels in held-out validation set. For each of the plots, also report the area under the curve (AUC) value. You should have 4 × 4 plots in this section (4 trimming options – including no trimming times 4 thresholds) - all thresholds can be condensed into one plot per trimming option yielding only 4 plots.***"
   ]
  },
  {
   "cell_type": "code",
   "execution_count": 9,
   "metadata": {},
   "outputs": [],
   "source": [
    "#Trimming data\n",
    "from collections import defaultdict\n",
    "\n",
    "raw_ratings = data.raw_ratings\n",
    "\n",
    "Moveid_ratings_dict = defaultdict(list)\n",
    "\n",
    "for ele in raw_ratings:\n",
    "    Moveid_ratings_dict[ele[1]].append(ele[2])\n",
    "\n",
    "def get_list(name, dictionary):\n",
    "    A_list = []\n",
    "    if name == \"High_variance\":\n",
    "        for ele in dictionary:\n",
    "            if len(dictionary[ele]) >= 5 and np.var(dictionary[ele]) >= 2:\n",
    "                A_list.append(ele)\n",
    "                \n",
    "    elif name == \"Unpopular\":\n",
    "        for ele in dictionary:\n",
    "            if len(dictionary[ele]) <= 2:\n",
    "                A_list.append(ele)\n",
    "    else:\n",
    "        for ele in dictionary:\n",
    "            if len(dictionary[ele]) > 2:\n",
    "                A_list.append(ele)\n",
    "                \n",
    "    return A_list\n",
    "            \n",
    "\n",
    "\n",
    "# More than 2 ratings\n",
    "Popular = get_list(\"Popular\", Moveid_ratings_dict)\n",
    "\n",
    "# <= 2 ratings\n",
    "Unpopular = get_list(\"Unpopular\", Moveid_ratings_dict)\n",
    "\n",
    "# >= 2 variance and >= 5 ratings \n",
    "High_variance = get_list(\"High_variance\", Moveid_ratings_dict)"
   ]
  },
  {
   "cell_type": "code",
   "execution_count": 10,
   "metadata": {},
   "outputs": [],
   "source": [
    "from surprise.model_selection import cross_validate, KFold, train_test_split\n",
    "from surprise import Reader, Dataset, accuracy\n",
    "\n",
    "kf = KFold(n_splits=10)\n",
    "\n",
    "def get_RMSE_plot(name, kf, Trimmed_array, Data):\n",
    "    test_dataset = []\n",
    "    Rmse = []\n",
    "    k = range(2,100,2)\n",
    "\n",
    "    for i in k:\n",
    "        Rmse_10 = 0\n",
    "        algo = KNNWithMeans(k=i, sim_options = {\"name\": \"pearson\"}, verbose = False)\n",
    "    \n",
    "        for train, test in kf.split(Data): \n",
    "            algo.fit(train)\n",
    "            \n",
    "            for ele in test:\n",
    "                if ele[1] in Trimmed_array:\n",
    "                    test_dataset.append(ele)\n",
    "                    \n",
    "            prediction = algo.test(test_dataset)\n",
    "            Rmse_10 += accuracy.rmse(prediction, verbose = False)\n",
    "        \n",
    "        # count 10 times because 10 fold, take averge for the 10 values\n",
    "        Rmse.append(Rmse_10/10)\n",
    "        \n",
    "    plt.plot(k, Rmse)\n",
    "    plt.title('k vs Average RMSE for ', name)\n",
    "    plt.xlabel('k Value')\n",
    "    plt.ylabel('Average RMSE')"
   ]
  },
  {
   "cell_type": "code",
   "execution_count": null,
   "metadata": {},
   "outputs": [],
   "source": [
    "get_RMSE_plot(\"popular movies\", kf, Popular, data)"
   ]
  },
  {
   "cell_type": "code",
   "execution_count": null,
   "metadata": {},
   "outputs": [],
   "source": [
    "get_RMSE_plot(\"unpopular movies\", kf, Unpopular, data)"
   ]
  },
  {
   "cell_type": "code",
   "execution_count": null,
   "metadata": {},
   "outputs": [],
   "source": [
    "get_RMSE_plot(\"high variance movies\", kf, High_variance, data)"
   ]
  },
  {
   "cell_type": "code",
   "execution_count": null,
   "metadata": {},
   "outputs": [],
   "source": [
    "from surprise.model_selection import train_test_split\n",
    "from sklearn.metrics import roc_curve, auc\n",
    "\n",
    "def get_ROC_plot(Name, k, kf, Trimmed_array, Data):\n",
    "    \n",
    "    Threshold = [2.5, 3, 3.5, 4]\n",
    "    \n",
    "    algo = KNNWithMeans(k=k, sim_options = {\"name\": \"pearson\"}, verbose = False)\n",
    "  \n",
    "    if Name == \"Original Dataset\":\n",
    "        train, test = train_test_split(data, test_size=0.1)\n",
    "        algo.fit(train)\n",
    "        prediction = algo.test(test)\n",
    "    \n",
    "    else:\n",
    "        for train, test in kf.split(Data): \n",
    "            test_dataset = []\n",
    "            algo.fit(train)\n",
    "            for ele in test:\n",
    "                if ele[1] in Trimmed_array:\n",
    "                    test_dataset.append(ele)\n",
    "\n",
    "            prediction = algo.test(test_dataset)\n",
    "        \n",
    "        \n",
    "    fig, axes = plt.subplots(nrows=1, ncols=4,figsize=(24,6))\n",
    "    for thre in Threshold:\n",
    "        test_true = []\n",
    "        for ele in prediction:\n",
    "            if ele.r_ui > thre:\n",
    "                test_true.append(1)\n",
    "            else:\n",
    "                test_true.append(0)\n",
    "        \n",
    "        Index = Threshold.index(thre)\n",
    "        fpr, tpr, _ = roc_curve(test_true, [ele.est for ele in prediction])\n",
    "        \n",
    "        axes[Index].plot(fpr, tpr, lw=5, ls='-', color='c', label=\"AUC: {}\".format((auc(fpr,tpr))))\n",
    "        axes[Index].plot([0, 1], [0, 1], lw=2, ls='--', color='g') \n",
    "        axes[Index].set_title(\"For threshold = {}\".format(Threshold[Index]))\n",
    "        axes[Index].set_xlabel('FTR')\n",
    "        axes[Index].set_ylabel('TPR')\n",
    "        axes[Index].legend()\n",
    "    \n",
    "    fig.suptitle(Name, fontsize=15)\n",
    "    plt.show()"
   ]
  },
  {
   "cell_type": "code",
   "execution_count": null,
   "metadata": {},
   "outputs": [],
   "source": [
    "get_ROC_plot(\"Original Dataset\", 20, kf, _, data)"
   ]
  },
  {
   "cell_type": "markdown",
   "metadata": {},
   "source": [
    "# Need to modify k after the first part give me result"
   ]
  },
  {
   "cell_type": "code",
   "execution_count": null,
   "metadata": {},
   "outputs": [],
   "source": [
    "get_ROC_plot(\"Popular Dataset\", 20, kf, Popular, data)"
   ]
  },
  {
   "cell_type": "code",
   "execution_count": null,
   "metadata": {},
   "outputs": [],
   "source": [
    "get_ROC_plot(\"Unpopular Dataset\", 20, kf, Unpopular, data)"
   ]
  },
  {
   "cell_type": "code",
   "execution_count": null,
   "metadata": {},
   "outputs": [],
   "source": [
    "get_ROC_plot(\"High Variance Dataset\", 20, kf, High_variance, data)"
   ]
  },
  {
   "cell_type": "markdown",
   "metadata": {},
   "source": [
    "### QUESTION 7\n",
    "- ***Understanding the NMF cost function: Is the optimization problem given by equation 5 convex? Consider the optimization problem given by equation 5. For U fixed, formulate it as a least-squares problem.***\n",
    "    - not convex, have 2 variables, explore second derivative of equation -> matrix not always semi positive def"
   ]
  },
  {
   "cell_type": "markdown",
   "metadata": {},
   "source": [
    "The optimization problem given by equation 5 cannot be convex. The function is a non-constant function with more than one global minima. "
   ]
  },
  {
   "cell_type": "markdown",
   "metadata": {},
   "source": [
    "### QUESTION 8\n",
    "- ***A) Design a NMF-based collaborative filter to predict the ratings of the movies in the original dataset and evaluate its performance using 10-fold cross-validation. Sweep k (number of latent factors) from 2 to 50 in step sizes of 2, and for each k compute the average RMSE and average MAE obtained by averaging the RMSE and MAE across all 10 folds. If NMF takes too long, you can increase the step size. Increasing it too much will result in poorer granularity in your results. Plot the average RMSE (Y-axis) against k (X-axis) and the average MAE (Y- axis) against k (X-axis). For solving this question, use the default value for the regularization parameter.***\n",
    "- ***B( Use the plot from the previous part to find the optimal number of latent factors. Optimal number of latent factors is the value of k that gives the minimum average RMSE or the minimum average MAE. Please report the minimum average RMSE and MAE. Is the optimal number of latent factors same as the number of movie genres?***\n",
    "- ***C) Performance on trimmed dataset subsets: For each of Popular, Unpopular and High- Variance subsets***\n",
    "    - ***Design a NMF collaborative filter to predict the ratings of the movies in the trimmed subset and evaluate its performance using 10-fold cross validation. Sweep k (number of latent factors) from 2 to 50 in step sizes of 2, and for each k compute the average RMSE obtained by averaging the RMSE across all 10 folds.***\n",
    "    - ***Plot average RMSE (Y-axis) against k (X-axis); item Report the minimum average RMSE.***\n",
    "- ***Plot the ROC curves for the NMF-based collaborative filter and also report the area under the curve (AUC) value as done in Question 6.***"
   ]
  },
  {
   "cell_type": "code",
   "execution_count": null,
   "metadata": {},
   "outputs": [],
   "source": []
  },
  {
   "cell_type": "markdown",
   "metadata": {},
   "source": [
    "### QUESTION 9\n",
    "- ***Perform Non-negative matrix factorization on the ratings matrix R to obtain the factor matrices U and V , where U represents the user-latent factors interaction and V represents the movie-latent factors interaction (use k = 20). For each column of V , sort the movies in descending order and report the genres of the top 10 movies. Do the top 10 movies belong to a particular or a small collection of genre? Is there a connection between the latent factors and the movie genres?***"
   ]
  },
  {
   "cell_type": "code",
   "execution_count": null,
   "metadata": {},
   "outputs": [],
   "source": []
  },
  {
   "cell_type": "markdown",
   "metadata": {},
   "source": [
    "### QUESTION 10\n",
    "\n",
    "- ***A) Design a MF-based collaborative filter to predict the ratings of the movies in the original dataset and evaluate it’s performance using 10-fold cross-validation. Sweep k (number of latent factors) from 2 to 50 in step sizes of 2, and for each k compute the average RMSE and average MAE obtained by averaging the RMSE and MAE across all 10 folds. Plot the average RMSE (Y-axis) against k (X-axis) and the average MAE (Y-axis) against k (X-axis). For solving this question, use the default value for the regularization parameter.***\n",
    "- ***B) Design a MF-based collaborative filter to predict the ratings of the movies in the original dataset and evaluate it’s performance using 10-fold cross-validation. Sweep k (number of latent factors) from 2 to 50 in step sizes of 2, and for each k compute the average RMSE and average MAE obtained by averaging the RMSE and MAE across all 10 folds. Plot the average RMSE (Y-axis) against k (X-axis) and the average MAE (Y-axis) against k (X-axis). For solving this question, use the default value for the regularization parameter.***\n",
    "- ***C) Performance on dataset subsets: For each of Popular, Unpopular and High-Variance subsets***\n",
    "    - ***Design a MF collaborative filter to predict the ratings of the movies in the trimmed subset and evaluate its performance using 10-fold cross validation. Sweep k (number of latent factors) from 2 to 50 in step sizes of 2, and for each k compute the average RMSE obtained by averaging the RMSE across all 10 folds.***\n",
    "    - ***Plot average RMSE (Y-axis) against k (X-axis); item Report the minimum average RMSE.***\n",
    "- ***Plot the ROC curves for the MF-based collaborative filter and also report the area under the curve (AUC) value as done in Question 6***"
   ]
  },
  {
   "cell_type": "code",
   "execution_count": null,
   "metadata": {},
   "outputs": [],
   "source": []
  },
  {
   "cell_type": "markdown",
   "metadata": {},
   "source": [
    "### QUESTION 11\n",
    "\n",
    "- ***Design a naive collaborative filter to predict the ratings of the movies in the original dataset and evaluate it’s performance using 10-fold cross validation. Compute the average RMSE by averaging the RMSE across all 10 folds. Report the average RMSE.***\n",
    "- ***Performance on dataset subsets: For each of Popular, Unpopular and High-Variance test subsets***\n",
    "    - ***Design a naive collaborative filter to predict the ratings of the movies in each trimmed set and evaluate it’s performance using 10-fold cross validation.***\n",
    "    - ***Compute the average RMSE by averaging the RMSE across all 10 folds. Report the average RMSE.***"
   ]
  },
  {
   "cell_type": "code",
   "execution_count": null,
   "metadata": {},
   "outputs": [],
   "source": [
    "from surprise.model_selection.split import KFold\n",
    "from sklearn.metrics import mean_squared_error\n",
    "    \n",
    "# get average rating per user\n",
    "def naive_collab_filter(rating):\n",
    "    user_ratings={}\n",
    "    user_ave_rating = {}\n",
    "    for i in rating: \n",
    "        if i[0] not in user_ratings.keys():\n",
    "            user_ratings[i[0]] = [i[2]]\n",
    "        else:\n",
    "            user_ratings[i[0]].append(i[2])\n",
    "    for user in user_ratings.keys():\n",
    "        user_ave_rating[user] = np.mean(user_ratings[user])\n",
    "    return user_ave_rating\n",
    "\n",
    "# calculate rmse \n",
    "def calculate_RMSE(user_ave, data, filtertype, filtermovies):\n",
    "    rmse = 0\n",
    "    kfold_10 = KFold(n_splits=10)\n",
    "    if filtertype == 'Original':\n",
    "        for trainset, testset in kfold_10.split(data):\n",
    "            predicted_rating = [user_ave[i[0]] for i in testset]\n",
    "            true_rating = [i[2] for i in testset]\n",
    "            rmse += np.sqrt(mean_squared_error(true_rating, predicted_rating))\n",
    "    else:\n",
    "        for trainset, testset in kfold_10.split(data):\n",
    "            filter_data = [i for i in testset if i[1] in filtermovies]\n",
    "            predicted_rating = [user_ave[i[0]] for i in filter_data]\n",
    "            true_rating = [i[2] for i in filter_data]\n",
    "            rmse += np.sqrt(mean_squared_error(true_rating, predicted_rating))\n",
    "    return rmse/10"
   ]
  },
  {
   "cell_type": "code",
   "execution_count": null,
   "metadata": {},
   "outputs": [],
   "source": [
    "## original data\n",
    "original_average = naive_collab_filter(data.raw_ratings)\n",
    "original_rsme = calculate_RMSE(original_average, data, 'Original', data)\n",
    "print('Average RMSE for original data set using naive collaborative filtering: ', original_rsme)\n",
    "\n",
    "## popular\n",
    "popular_rsme = calculate_RMSE(original_average, data, 'Popular', Popular)\n",
    "print('Average RMSE for Popular movie Trimming data set using naive collaborative filtering: ', popular_rsme)\n",
    "\n",
    "## unpopular\n",
    "unpopular_rsme = calculate_RMSE(original_average, data, 'Unpopular', Unpopular)\n",
    "print('Average RMSE for Unopular movie Trimming data set using naive collaborative filtering: ', unpopular_rsme)\n",
    "\n",
    "## high_variance\n",
    "hv_rsme = calculate_RMSE(original_average, data, 'High Variance', High_variance)\n",
    "print('Average RMSE for High Variance movie Trimming data set using naive collaborative filtering: ', hv_rsme)"
   ]
  },
  {
   "cell_type": "markdown",
   "metadata": {},
   "source": [
    "### QUESTION 12\n",
    "- ***Comparing the most performant models across architecture: Plot the best ROC curves (threshold = 3) for the k-NN, NMF, and MF with bias based collaborative filters in the same figure. Use the figure to compare the performance of the filters in predicting the ratings of the movies.***"
   ]
  },
  {
   "cell_type": "code",
   "execution_count": null,
   "metadata": {},
   "outputs": [],
   "source": []
  },
  {
   "cell_type": "markdown",
   "metadata": {},
   "source": [
    "### QUESTION 13\n",
    "\n",
    "- ***Understanding Precision and Recall in the context of Recommender Systems: Precision and Recall are defined by the mathematical expressions given by equations 12 and 13 respectively. Please explain the meaning of precision and recall in your own words.***"
   ]
  },
  {
   "cell_type": "code",
   "execution_count": null,
   "metadata": {},
   "outputs": [],
   "source": []
  },
  {
   "cell_type": "markdown",
   "metadata": {},
   "source": [
    "### QUESTION 14\n",
    "\n",
    "- ***Comparing the precision-recall metrics for the different models:***\n",
    "- ***For each of the three architectures:***\n",
    "    - ***Plot average precision (Y-axis) against t (X-axis) for the ranking obtained using the model’s predictions.***\n",
    "    - ***Plot the average recall (Y-axis) against t (X-axis) and plot the average precision (Y-axis) against average recall (X-axis).***\n",
    "    - ***Use the best k found in the previous parts and sweep t from 1 to 25 in step sizes of 1. For each plot, briefly comment on the shape of the plot.***\n",
    "- ***Plot the best precision-recall curves obtained for the three models (k-NN, NMF, MF) in the same figure. Use this figure to compare the relevance of the recommendation list generated using k-NN, NMF, and MF with bias predictions.***\n",
    "- ***Hints:***\n",
    "    - ***Use threshold = 3 for obtaining the set G***\n",
    "    - ***Use 10-fold cross-validation to obtain the average precision and recall values for each value of t. To be specific, compute precision and recall for each user using equations 12 and 13 and then average across all the users in the dataset to obtain the precision and recall for this fold. Now repeat the above procedure to compute the precision and recall for all the folds and then take the average across all the 10-folds to obtain the average precision and average recall value for this value of t.***\n",
    "    - ***If |G| = 0 for some user in the validation set, then drop this user***\n",
    "    - ***If some user in the validation set has rated less than t items, then drop this user.***"
   ]
  }
 ],
 "metadata": {
  "kernelspec": {
   "display_name": "Python 3 (ipykernel)",
   "language": "python",
   "name": "python3"
  },
  "language_info": {
   "codemirror_mode": {
    "name": "ipython",
    "version": 3
   },
   "file_extension": ".py",
   "mimetype": "text/x-python",
   "name": "python",
   "nbconvert_exporter": "python",
   "pygments_lexer": "ipython3",
   "version": "3.9.12"
  },
  "vscode": {
   "interpreter": {
    "hash": "6c4d0dcc6ab9b928a81d54ec458645a30fcac0c4b83eb673056319a03dc0ba5e"
   }
  }
 },
 "nbformat": 4,
 "nbformat_minor": 2
}
