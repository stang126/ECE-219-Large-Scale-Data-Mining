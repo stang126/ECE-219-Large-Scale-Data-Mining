{
 "cells": [
  {
   "cell_type": "markdown",
   "id": "5135c324-046d-4888-bd7b-5f1397823cc8",
   "metadata": {},
   "source": [
    "# Project 1 Report"
   ]
  },
  {
   "cell_type": "markdown",
   "id": "0b3c6214-7041-4ed6-bcb8-694295d305e2",
   "metadata": {},
   "source": [
    "### Question 1\n",
    "\n",
    "Overview: How many rows (samples) and columns (features) are present in the dataset?"
   ]
  },
  {
   "cell_type": "code",
   "execution_count": 5,
   "id": "01bb52f0-30c8-4fa2-9b4d-b8ae9d03c619",
   "metadata": {},
   "outputs": [
    {
     "data": {
      "text/plain": [
       "(3150, 8)"
      ]
     },
     "execution_count": 5,
     "metadata": {},
     "output_type": "execute_result"
    }
   ],
   "source": [
    "import pandas as pd\n",
    "df=pd.read_csv('Project1-Classification.csv')\n",
    "df.shape"
   ]
  },
  {
   "cell_type": "markdown",
   "id": "5a3ad867-f9a8-40c8-8411-156559c286d6",
   "metadata": {},
   "source": [
    "##### There are 3150 rows (samples) and 8 columns (features) in the data set. "
   ]
  },
  {
   "cell_type": "markdown",
   "id": "c94b0cfb-1b61-4c77-a7ff-f49170f60ade",
   "metadata": {},
   "source": [
    "Interpret Plots: Provide qualitative interpretations of the histograms."
   ]
  },
  {
   "cell_type": "markdown",
   "id": "0fd1166c-9f7f-457f-9345-419a942e3825",
   "metadata": {},
   "source": [
    "##### The alpha-numeric histogram right skewed with an average around 2,500 characters. Additionally, most alpha-numeric character counts lie within 0 and 10,000.\n",
    "##### The leaf_label histogram is evenly distributed as all categories have the same frequency, which is 350.\n",
    "##### The root_label histogram is not evenly distributed. The sports category appears more frequently than the climate category; sports appears 1750 times while climate appears 1400 times. "
   ]
  },
  {
   "cell_type": "markdown",
   "id": "5582103d-b207-49bd-ab8c-215a1dc23775",
   "metadata": {},
   "source": [
    "### Question 2\n",
    "\n",
    "Report the number of training and testing samples"
   ]
  },
  {
   "cell_type": "markdown",
   "id": "70fe2585-4613-4862-a081-2f4dcd81d038",
   "metadata": {},
   "source": [
    "##### There are 2520 training samples and 630 testing samples"
   ]
  },
  {
   "cell_type": "markdown",
   "id": "94731401-9cb1-4018-9060-b70ffaeac36c",
   "metadata": {},
   "source": [
    "### Question 3\n",
    "\n",
    "What are the pros and cons of lemmatization versus stemming? How do these processes affect\n",
    "the dictionary size?\n",
    "• min df means minimum document frequency. How does varying min df change the TF-IDF\n",
    "matrix?\n",
    "• Should I remove stopwords before or after lemmatizing? Should I remove punctuations before\n",
    "or after lemmatizing? Should I remove numbers before or after lemmatizing? Hint: Recall\n",
    "that the full sentence is input into the Lemmatizer and the lemmatizer is tagging the position\n",
    "of every word based on the sentence structure.\n",
    "• Report the shape of the TF-IDF-processed train and test matrices. The number of rows should\n",
    "match the results of Question 2. The number of columns should roughly be in the order of\n",
    "k×103\n",
    ". This dimension will vary depending on your exact method of cleaning and lemmatizing\n",
    "and that is okay.\n"
   ]
  },
  {
   "cell_type": "code",
   "execution_count": null,
   "id": "6f933384-3a66-4baa-a96e-dd8a54ed89ab",
   "metadata": {},
   "outputs": [],
   "source": []
  }
 ],
 "metadata": {
  "kernelspec": {
   "display_name": "Python 3 (ipykernel)",
   "language": "python",
   "name": "python3"
  },
  "language_info": {
   "codemirror_mode": {
    "name": "ipython",
    "version": 3
   },
   "file_extension": ".py",
   "mimetype": "text/x-python",
   "name": "python",
   "nbconvert_exporter": "python",
   "pygments_lexer": "ipython3",
   "version": "3.9.7"
  }
 },
 "nbformat": 4,
 "nbformat_minor": 5
}
