{
 "cells": [
  {
   "cell_type": "markdown",
   "id": "90bd0ac0-de08-4120-b0f5-f0ad559dedfa",
   "metadata": {},
   "source": [
    "# Project 1 Code\n",
    "### Serena Tang, Liwen, Winston"
   ]
  },
  {
   "cell_type": "markdown",
   "id": "77f467a5-5f6a-4f20-878c-74718d0f6afe",
   "metadata": {},
   "source": [
    "#### Getting familiar with the dataset"
   ]
  },
  {
   "cell_type": "code",
   "execution_count": 4,
   "id": "0f0b343a-20ff-413a-988e-9940f72ef689",
   "metadata": {},
   "outputs": [
    {
     "data": {
      "text/plain": [
       "(3150, 8)"
      ]
     },
     "execution_count": 4,
     "metadata": {},
     "output_type": "execute_result"
    }
   ],
   "source": [
    "import pandas as pd\n",
    "classification = pd.read_csv('Project1-Classification.csv')\n",
    "classification.shape\n"
   ]
  },
  {
   "cell_type": "markdown",
   "id": "c016a7d1-f4be-4561-b120-a948ee323450",
   "metadata": {},
   "source": [
    "#### Binary Classification"
   ]
  },
  {
   "cell_type": "code",
   "execution_count": 1,
   "id": "619953b9-9641-4d5d-9eb4-3abcb63bb8b8",
   "metadata": {},
   "outputs": [],
   "source": [
    "import numpy as np\n",
    "import random\n",
    "np.random.seed(42)\n",
    "random.seed(42)"
   ]
  },
  {
   "cell_type": "code",
   "execution_count": null,
   "id": "f5ba5f09-b24f-4cb0-b953-35037f146b5c",
   "metadata": {},
   "outputs": [],
   "source": []
  }
 ],
 "metadata": {
  "kernelspec": {
   "display_name": "Python 3 (ipykernel)",
   "language": "python",
   "name": "python3"
  },
  "language_info": {
   "codemirror_mode": {
    "name": "ipython",
    "version": 3
   },
   "file_extension": ".py",
   "mimetype": "text/x-python",
   "name": "python",
   "nbconvert_exporter": "python",
   "pygments_lexer": "ipython3",
   "version": "3.9.7"
  }
 },
 "nbformat": 4,
 "nbformat_minor": 5
}
