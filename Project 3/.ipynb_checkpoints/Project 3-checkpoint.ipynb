{
 "cells": [
  {
   "cell_type": "markdown",
   "metadata": {},
   "source": [
    "# Project 3: Recommender Systems\n",
    "### Serena Tang, Liwen Yang, Winston Wang"
   ]
  },
  {
   "cell_type": "markdown",
   "metadata": {},
   "source": [
    "### QUESTION 1\n",
    "***Explore the Dataset: In this question, we explore the structure of the data.***\n",
    "- ***A) Compute the sparsity of the movie rating dataset:*** $Sparsity = \\dfrac{Total number of available ratings}{Total number of possible ratings}$\n",
    "    - The spasity of the movie rating dataset is 1; this implies that all ratings are available. "
   ]
  },
  {
   "cell_type": "code",
   "execution_count": 1,
   "metadata": {},
   "outputs": [],
   "source": [
    "import pandas as pd\n",
    "import numpy as np\n",
    "\n",
    "# import ratings data\n",
    "ratings_df = pd.read_csv('ratings.csv')\n",
    "ratings = ratings_df.rating\n",
    "\n",
    "# map userIDs "
   ]
  },
  {
   "cell_type": "code",
   "execution_count": 7,
   "metadata": {},
   "outputs": [
    {
     "data": {
      "text/html": [
       "<div>\n",
       "<style scoped>\n",
       "    .dataframe tbody tr th:only-of-type {\n",
       "        vertical-align: middle;\n",
       "    }\n",
       "\n",
       "    .dataframe tbody tr th {\n",
       "        vertical-align: top;\n",
       "    }\n",
       "\n",
       "    .dataframe thead th {\n",
       "        text-align: right;\n",
       "    }\n",
       "</style>\n",
       "<table border=\"1\" class=\"dataframe\">\n",
       "  <thead>\n",
       "    <tr style=\"text-align: right;\">\n",
       "      <th></th>\n",
       "      <th>Unnamed: 0</th>\n",
       "      <th>userId</th>\n",
       "      <th>movieId</th>\n",
       "      <th>rating</th>\n",
       "      <th>timestamp</th>\n",
       "    </tr>\n",
       "  </thead>\n",
       "  <tbody>\n",
       "    <tr>\n",
       "      <th>3700</th>\n",
       "      <td>3700</td>\n",
       "      <td>1</td>\n",
       "      <td>6</td>\n",
       "      <td>4.5</td>\n",
       "      <td>964982224</td>\n",
       "    </tr>\n",
       "    <tr>\n",
       "      <th>35106</th>\n",
       "      <td>35106</td>\n",
       "      <td>1</td>\n",
       "      <td>500</td>\n",
       "      <td>3.0</td>\n",
       "      <td>964981208</td>\n",
       "    </tr>\n",
       "    <tr>\n",
       "      <th>41885</th>\n",
       "      <td>41885</td>\n",
       "      <td>1</td>\n",
       "      <td>356</td>\n",
       "      <td>4.0</td>\n",
       "      <td>964980962</td>\n",
       "    </tr>\n",
       "    <tr>\n",
       "      <th>20190</th>\n",
       "      <td>20190</td>\n",
       "      <td>1</td>\n",
       "      <td>2478</td>\n",
       "      <td>4.0</td>\n",
       "      <td>964984169</td>\n",
       "    </tr>\n",
       "    <tr>\n",
       "      <th>23472</th>\n",
       "      <td>23472</td>\n",
       "      <td>1</td>\n",
       "      <td>1777</td>\n",
       "      <td>4.0</td>\n",
       "      <td>964981230</td>\n",
       "    </tr>\n",
       "    <tr>\n",
       "      <th>...</th>\n",
       "      <td>...</td>\n",
       "      <td>...</td>\n",
       "      <td>...</td>\n",
       "      <td>...</td>\n",
       "      <td>...</td>\n",
       "    </tr>\n",
       "    <tr>\n",
       "      <th>75641</th>\n",
       "      <td>75641</td>\n",
       "      <td>610</td>\n",
       "      <td>7894</td>\n",
       "      <td>3.5</td>\n",
       "      <td>1479544798</td>\n",
       "    </tr>\n",
       "    <tr>\n",
       "      <th>69809</th>\n",
       "      <td>69809</td>\n",
       "      <td>610</td>\n",
       "      <td>59022</td>\n",
       "      <td>4.0</td>\n",
       "      <td>1493846893</td>\n",
       "    </tr>\n",
       "    <tr>\n",
       "      <th>54751</th>\n",
       "      <td>54751</td>\n",
       "      <td>610</td>\n",
       "      <td>904</td>\n",
       "      <td>5.0</td>\n",
       "      <td>1493850276</td>\n",
       "    </tr>\n",
       "    <tr>\n",
       "      <th>4193</th>\n",
       "      <td>4193</td>\n",
       "      <td>610</td>\n",
       "      <td>100163</td>\n",
       "      <td>3.0</td>\n",
       "      <td>1493847984</td>\n",
       "    </tr>\n",
       "    <tr>\n",
       "      <th>44166</th>\n",
       "      <td>44166</td>\n",
       "      <td>610</td>\n",
       "      <td>7360</td>\n",
       "      <td>4.0</td>\n",
       "      <td>1493846048</td>\n",
       "    </tr>\n",
       "  </tbody>\n",
       "</table>\n",
       "<p>100836 rows × 5 columns</p>\n",
       "</div>"
      ],
      "text/plain": [
       "       Unnamed: 0  userId  movieId  rating   timestamp\n",
       "3700         3700       1        6     4.5   964982224\n",
       "35106       35106       1      500     3.0   964981208\n",
       "41885       41885       1      356     4.0   964980962\n",
       "20190       20190       1     2478     4.0   964984169\n",
       "23472       23472       1     1777     4.0   964981230\n",
       "...           ...     ...      ...     ...         ...\n",
       "75641       75641     610     7894     3.5  1479544798\n",
       "69809       69809     610    59022     4.0  1493846893\n",
       "54751       54751     610      904     5.0  1493850276\n",
       "4193         4193     610   100163     3.0  1493847984\n",
       "44166       44166     610     7360     4.0  1493846048\n",
       "\n",
       "[100836 rows x 5 columns]"
      ]
     },
     "execution_count": 7,
     "metadata": {},
     "output_type": "execute_result"
    }
   ],
   "source": [
    "ratings_df.sort_values(by='userId')"
   ]
  },
  {
   "cell_type": "markdown",
   "metadata": {},
   "source": [
    "- ***B) Plot a histogram showing the frequency of the rating values: Bin the raw rating values into intervals of width 0.5 and use the binned rating values as the horizontal axis. Count the number of entries in the ratings matrix R that fall within each bin and use this count as the height of the vertical axis for that particular bin. Comment on the shape of the histogram.***"
   ]
  },
  {
   "cell_type": "markdown",
   "metadata": {},
   "source": [
    "C Plot the distribution of the number of ratings received among movies: The X-axis\n",
    "should be the movie index ordered by decreasing frequency and the Y -axis should be the number\n",
    "of ratings the movie has received; ties can broken in any way. A monotonically decreasing trend\n",
    "is expected.\n",
    "D Plot the distribution of ratings among users: The X-axis should be the user index ordered\n",
    "by decreasing frequency and the Y -axis should be the number of movies the user has rated.\n",
    "The requirement of the plot is similar to that in Question C.\n",
    "E Discuss the salient features of the distributions from Questions C,D and their implications\n",
    "for the recommendation process.\n",
    "F Compute the variance of the rating values received by each movie: Bin the variance\n",
    "values into intervals of width 0.5 and use the binned variance values as the horizontal axis.\n",
    "Count the number of movies with variance values in the binned intervals and use this count as\n",
    "the vertical axis. Briefly comment on the shape of the resulting histogram."
   ]
  },
  {
   "cell_type": "code",
   "execution_count": null,
   "metadata": {},
   "outputs": [],
   "source": []
  },
  {
   "cell_type": "code",
   "execution_count": null,
   "metadata": {},
   "outputs": [],
   "source": []
  }
 ],
 "metadata": {
  "kernelspec": {
   "display_name": "Python 3 (ipykernel)",
   "language": "python",
   "name": "python3"
  },
  "language_info": {
   "codemirror_mode": {
    "name": "ipython",
    "version": 3
   },
   "file_extension": ".py",
   "mimetype": "text/x-python",
   "name": "python",
   "nbconvert_exporter": "python",
   "pygments_lexer": "ipython3",
   "version": "3.9.13"
  },
  "vscode": {
   "interpreter": {
    "hash": "6c4d0dcc6ab9b928a81d54ec458645a30fcac0c4b83eb673056319a03dc0ba5e"
   }
  }
 },
 "nbformat": 4,
 "nbformat_minor": 2
}
